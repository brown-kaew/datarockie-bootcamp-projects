{
 "cells":[
  {
   "cell_type":"code",
   "source":[
    "# install nycflights13\n",
    "#install.packages(\"nycflights13\")"
   ],
   "execution_count":86,
   "outputs":[
    
   ],
   "metadata":{
    "datalore":{
     "node_id":"xN4N4RiOhOwCjXGry4qLA7",
     "type":"CODE",
     "hide_input_from_viewers":false,
     "hide_output_from_viewers":false,
     "report_properties":{
      
     }
    }
   }
  },
  {
   "cell_type":"code",
   "source":[
    "# load package\n",
    "library(tidyverse)\n",
    "library(nycflights13)"
   ],
   "execution_count":87,
   "outputs":[
    
   ],
   "metadata":{
    "datalore":{
     "node_id":"FbGu9nomOE0hA4Q1kuIYBs",
     "type":"CODE",
     "hide_input_from_viewers":false,
     "hide_output_from_viewers":false,
     "report_properties":{
      
     }
    }
   }
  },
  {
   "cell_type":"markdown",
   "source":[
    "# schema\n",
    "![schema](https:\/\/bookdown.org\/asmundhreinn\/r4ds-master\/diagrams\/relational-nycflights.png)"
   ],
   "attachments":{
    
   },
   "metadata":{
    "datalore":{
     "node_id":"f9rxV3qXFwMg4OeEGDMZUK",
     "type":"MD",
     "hide_input_from_viewers":false,
     "hide_output_from_viewers":false,
     "report_properties":{
      
     }
    }
   }
  },
  {
   "cell_type":"code",
   "source":[
    "# glimpse data\n",
    "glimpse(flights)\n",
    "glimpse(airlines)\n",
    "glimpse(airports)\n",
    "glimpse(planes)\n",
    "glimpse(weather)"
   ],
   "execution_count":88,
   "outputs":[
    {
     "name":"stdout",
     "text":[
      "Rows: 336,776\n",
      "Columns: 19\n",
      "$ year           \u001b[3m\u001b[90m<int>\u001b[39m\u001b[23m 2013, 2013, 2013, 2013, 2013, 2013, 2013, 2013, 2013, 2…\n",
      "$ month          \u001b[3m\u001b[90m<int>\u001b[39m\u001b[23m 1, 1, 1, 1, 1, 1, 1, 1, 1, 1, 1, 1, 1, 1, 1, 1, 1, 1, 1…\n",
      "$ day            \u001b[3m\u001b[90m<int>\u001b[39m\u001b[23m 1, 1, 1, 1, 1, 1, 1, 1, 1, 1, 1, 1, 1, 1, 1, 1, 1, 1, 1…\n",
      "$ dep_time       \u001b[3m\u001b[90m<int>\u001b[39m\u001b[23m 517, 533, 542, 544, 554, 554, 555, 557, 557, 558, 558, …\n",
      "$ sched_dep_time \u001b[3m\u001b[90m<int>\u001b[39m\u001b[23m 515, 529, 540, 545, 600, 558, 600, 600, 600, 600, 600, …\n",
      "$ dep_delay      \u001b[3m\u001b[90m<dbl>\u001b[39m\u001b[23m 2, 4, 2, -1, -6, -4, -5, -3, -3, -2, -2, -2, -2, -2, -1…\n",
      "$ arr_time       \u001b[3m\u001b[90m<int>\u001b[39m\u001b[23m 830, 850, 923, 1004, 812, 740, 913, 709, 838, 753, 849,…\n",
      "$ sched_arr_time \u001b[3m\u001b[90m<int>\u001b[39m\u001b[23m 819, 830, 850, 1022, 837, 728, 854, 723, 846, 745, 851,…\n",
      "$ arr_delay      \u001b[3m\u001b[90m<dbl>\u001b[39m\u001b[23m 11, 20, 33, -18, -25, 12, 19, -14, -8, 8, -2, -3, 7, -1…\n",
      "$ carrier        \u001b[3m\u001b[90m<chr>\u001b[39m\u001b[23m \"UA\", \"UA\", \"AA\", \"B6\", \"DL\", \"UA\", \"B6\", \"EV\", \"B6\", \"…\n",
      "$ flight         \u001b[3m\u001b[90m<int>\u001b[39m\u001b[23m 1545, 1714, 1141, 725, 461, 1696, 507, 5708, 79, 301, 4…\n",
      "$ tailnum        \u001b[3m\u001b[90m<chr>\u001b[39m\u001b[23m \"N14228\", \"N24211\", \"N619AA\", \"N804JB\", \"N668DN\", \"N394…\n",
      "$ origin         \u001b[3m\u001b[90m<chr>\u001b[39m\u001b[23m \"EWR\", \"LGA\", \"JFK\", \"JFK\", \"LGA\", \"EWR\", \"EWR\", \"LGA\",…\n",
      "$ dest           \u001b[3m\u001b[90m<chr>\u001b[39m\u001b[23m \"IAH\", \"IAH\", \"MIA\", \"BQN\", \"ATL\", \"ORD\", \"FLL\", \"IAD\",…\n",
      "$ air_time       \u001b[3m\u001b[90m<dbl>\u001b[39m\u001b[23m 227, 227, 160, 183, 116, 150, 158, 53, 140, 138, 149, 1…\n",
      "$ distance       \u001b[3m\u001b[90m<dbl>\u001b[39m\u001b[23m 1400, 1416, 1089, 1576, 762, 719, 1065, 229, 944, 733, …\n",
      "$ hour           \u001b[3m\u001b[90m<dbl>\u001b[39m\u001b[23m 5, 5, 5, 5, 6, 5, 6, 6, 6, 6, 6, 6, 6, 6, 6, 5, 6, 6, 6…\n",
      "$ minute         \u001b[3m\u001b[90m<dbl>\u001b[39m\u001b[23m 15, 29, 40, 45, 0, 58, 0, 0, 0, 0, 0, 0, 0, 0, 0, 59, 0…\n",
      "$ time_hour      \u001b[3m\u001b[90m<dttm>\u001b[39m\u001b[23m 2013-01-01 10:00:00, 2013-01-01 10:00:00, 2013-01-01 1…\n",
      "Rows: 16\n",
      "Columns: 2\n",
      "$ carrier \u001b[3m\u001b[90m<chr>\u001b[39m\u001b[23m \"9E\", \"AA\", \"AS\", \"B6\", \"DL\", \"EV\", \"F9\", \"FL\", \"HA\", \"MQ\", \"O…\n",
      "$ name    \u001b[3m\u001b[90m<chr>\u001b[39m\u001b[23m \"Endeavor Air Inc.\", \"American Airlines Inc.\", \"Alaska Airline…\n",
      "Rows: 1,458\n",
      "Columns: 8\n",
      "$ faa   \u001b[3m\u001b[90m<chr>\u001b[39m\u001b[23m \"04G\", \"06A\", \"06C\", \"06N\", \"09J\", \"0A9\", \"0G6\", \"0G7\", \"0P2\", \"…\n",
      "$ name  \u001b[3m\u001b[90m<chr>\u001b[39m\u001b[23m \"Lansdowne Airport\", \"Moton Field Municipal Airport\", \"Schaumbur…\n",
      "$ lat   \u001b[3m\u001b[90m<dbl>\u001b[39m\u001b[23m 41.13047, 32.46057, 41.98934, 41.43191, 31.07447, 36.37122, 41.4…\n",
      "$ lon   \u001b[3m\u001b[90m<dbl>\u001b[39m\u001b[23m -80.61958, -85.68003, -88.10124, -74.39156, -81.42778, -82.17342…\n",
      "$ alt   \u001b[3m\u001b[90m<dbl>\u001b[39m\u001b[23m 1044, 264, 801, 523, 11, 1593, 730, 492, 1000, 108, 409, 875, 10…\n",
      "$ tz    \u001b[3m\u001b[90m<dbl>\u001b[39m\u001b[23m -5, -6, -6, -5, -5, -5, -5, -5, -5, -8, -5, -6, -5, -5, -5, -5, …\n",
      "$ dst   \u001b[3m\u001b[90m<chr>\u001b[39m\u001b[23m \"A\", \"A\", \"A\", \"A\", \"A\", \"A\", \"A\", \"A\", \"U\", \"A\", \"A\", \"U\", \"A\",…\n",
      "$ tzone \u001b[3m\u001b[90m<chr>\u001b[39m\u001b[23m \"America\/New_York\", \"America\/Chicago\", \"America\/Chicago\", \"Ameri…\n",
      "Rows: 3,322\n",
      "Columns: 9\n",
      "$ tailnum      \u001b[3m\u001b[90m<chr>\u001b[39m\u001b[23m \"N10156\", \"N102UW\", \"N103US\", \"N104UW\", \"N10575\", \"N105UW…\n",
      "$ year         \u001b[3m\u001b[90m<int>\u001b[39m\u001b[23m 2004, 1998, 1999, 1999, 2002, 1999, 1999, 1999, 1999, 199…\n",
      "$ type         \u001b[3m\u001b[90m<chr>\u001b[39m\u001b[23m \"Fixed wing multi engine\", \"Fixed wing multi engine\", \"Fi…\n",
      "$ manufacturer \u001b[3m\u001b[90m<chr>\u001b[39m\u001b[23m \"EMBRAER\", \"AIRBUS INDUSTRIE\", \"AIRBUS INDUSTRIE\", \"AIRBU…\n",
      "$ model        \u001b[3m\u001b[90m<chr>\u001b[39m\u001b[23m \"EMB-145XR\", \"A320-214\", \"A320-214\", \"A320-214\", \"EMB-145…\n",
      "$ engines      \u001b[3m\u001b[90m<int>\u001b[39m\u001b[23m 2, 2, 2, 2, 2, 2, 2, 2, 2, 2, 2, 2, 2, 2, 2, 2, 2, 2, 2, …\n",
      "$ seats        \u001b[3m\u001b[90m<int>\u001b[39m\u001b[23m 55, 182, 182, 182, 55, 182, 182, 182, 182, 182, 55, 55, 5…\n",
      "$ speed        \u001b[3m\u001b[90m<int>\u001b[39m\u001b[23m NA, NA, NA, NA, NA, NA, NA, NA, NA, NA, NA, NA, NA, NA, N…\n",
      "$ engine       \u001b[3m\u001b[90m<chr>\u001b[39m\u001b[23m \"Turbo-fan\", \"Turbo-fan\", \"Turbo-fan\", \"Turbo-fan\", \"Turb…\n",
      "Rows: 26,115\n",
      "Columns: 15\n",
      "$ origin     \u001b[3m\u001b[90m<chr>\u001b[39m\u001b[23m \"EWR\", \"EWR\", \"EWR\", \"EWR\", \"EWR\", \"EWR\", \"EWR\", \"EWR\", \"EW…\n",
      "$ year       \u001b[3m\u001b[90m<int>\u001b[39m\u001b[23m 2013, 2013, 2013, 2013, 2013, 2013, 2013, 2013, 2013, 2013,…\n",
      "$ month      \u001b[3m\u001b[90m<int>\u001b[39m\u001b[23m 1, 1, 1, 1, 1, 1, 1, 1, 1, 1, 1, 1, 1, 1, 1, 1, 1, 1, 1, 1,…\n",
      "$ day        \u001b[3m\u001b[90m<int>\u001b[39m\u001b[23m 1, 1, 1, 1, 1, 1, 1, 1, 1, 1, 1, 1, 1, 1, 1, 1, 1, 1, 1, 1,…\n",
      "$ hour       \u001b[3m\u001b[90m<int>\u001b[39m\u001b[23m 1, 2, 3, 4, 5, 6, 7, 8, 9, 10, 11, 13, 14, 15, 16, 17, 18, …\n",
      "$ temp       \u001b[3m\u001b[90m<dbl>\u001b[39m\u001b[23m 39.02, 39.02, 39.02, 39.92, 39.02, 37.94, 39.02, 39.92, 39.…\n",
      "$ dewp       \u001b[3m\u001b[90m<dbl>\u001b[39m\u001b[23m 26.06, 26.96, 28.04, 28.04, 28.04, 28.04, 28.04, 28.04, 28.…\n",
      "$ humid      \u001b[3m\u001b[90m<dbl>\u001b[39m\u001b[23m 59.37, 61.63, 64.43, 62.21, 64.43, 67.21, 64.43, 62.21, 62.…\n",
      "$ wind_dir   \u001b[3m\u001b[90m<dbl>\u001b[39m\u001b[23m 270, 250, 240, 250, 260, 240, 240, 250, 260, 260, 260, 330,…\n",
      "$ wind_speed \u001b[3m\u001b[90m<dbl>\u001b[39m\u001b[23m 10.35702, 8.05546, 11.50780, 12.65858, 12.65858, 11.50780, …\n",
      "$ wind_gust  \u001b[3m\u001b[90m<dbl>\u001b[39m\u001b[23m NA, NA, NA, NA, NA, NA, NA, NA, NA, NA, NA, NA, NA, NA, 20.…\n",
      "$ precip     \u001b[3m\u001b[90m<dbl>\u001b[39m\u001b[23m 0, 0, 0, 0, 0, 0, 0, 0, 0, 0, 0, 0, 0, 0, 0, 0, 0, 0, 0, 0,…\n",
      "$ pressure   \u001b[3m\u001b[90m<dbl>\u001b[39m\u001b[23m 1012.0, 1012.3, 1012.5, 1012.2, 1011.9, 1012.4, 1012.2, 101…\n",
      "$ visib      \u001b[3m\u001b[90m<dbl>\u001b[39m\u001b[23m 10, 10, 10, 10, 10, 10, 10, 10, 10, 10, 10, 10, 10, 10, 10,…\n",
      "$ time_hour  \u001b[3m\u001b[90m<dttm>\u001b[39m\u001b[23m 2013-01-01 06:00:00, 2013-01-01 07:00:00, 2013-01-01 08:00…\n"
     ],
     "output_type":"stream"
    }
   ],
   "metadata":{
    "datalore":{
     "node_id":"fRMYGLJ0b1bZaAdz3xAUTI",
     "type":"CODE",
     "hide_input_from_viewers":false,
     "hide_output_from_viewers":false,
     "report_properties":{
      
     }
    }
   }
  },
  {
   "cell_type":"code",
   "source":[
    "# head data\n",
    "head(flights)\n",
    "head(airlines)\n",
    "head(airports)\n",
    "head(planes)\n",
    "head(weather)"
   ],
   "execution_count":89,
   "outputs":[
    {
     "data":{
      "text\/html":[
       "<table class=\"dataframe\">\n",
       "<caption>A tibble: 6 × 19<\/caption>\n",
       "<thead>\n",
       "\t<tr><th scope=col>year<\/th><th scope=col>month<\/th><th scope=col>day<\/th><th scope=col>dep_time<\/th><th scope=col>sched_dep_time<\/th><th scope=col>dep_delay<\/th><th scope=col>arr_time<\/th><th scope=col>sched_arr_time<\/th><th scope=col>arr_delay<\/th><th scope=col>carrier<\/th><th scope=col>flight<\/th><th scope=col>tailnum<\/th><th scope=col>origin<\/th><th scope=col>dest<\/th><th scope=col>air_time<\/th><th scope=col>distance<\/th><th scope=col>hour<\/th><th scope=col>minute<\/th><th scope=col>time_hour<\/th><\/tr>\n",
       "\t<tr><th scope=col>&lt;int&gt;<\/th><th scope=col>&lt;int&gt;<\/th><th scope=col>&lt;int&gt;<\/th><th scope=col>&lt;int&gt;<\/th><th scope=col>&lt;int&gt;<\/th><th scope=col>&lt;dbl&gt;<\/th><th scope=col>&lt;int&gt;<\/th><th scope=col>&lt;int&gt;<\/th><th scope=col>&lt;dbl&gt;<\/th><th scope=col>&lt;chr&gt;<\/th><th scope=col>&lt;int&gt;<\/th><th scope=col>&lt;chr&gt;<\/th><th scope=col>&lt;chr&gt;<\/th><th scope=col>&lt;chr&gt;<\/th><th scope=col>&lt;dbl&gt;<\/th><th scope=col>&lt;dbl&gt;<\/th><th scope=col>&lt;dbl&gt;<\/th><th scope=col>&lt;dbl&gt;<\/th><th scope=col>&lt;dttm&gt;<\/th><\/tr>\n",
       "<\/thead>\n",
       "<tbody>\n",
       "\t<tr><td>2013<\/td><td>1<\/td><td>1<\/td><td>517<\/td><td>515<\/td><td> 2<\/td><td> 830<\/td><td> 819<\/td><td> 11<\/td><td>UA<\/td><td>1545<\/td><td>N14228<\/td><td>EWR<\/td><td>IAH<\/td><td>227<\/td><td>1400<\/td><td>5<\/td><td>15<\/td><td>2013-01-01 10:00:00<\/td><\/tr>\n",
       "\t<tr><td>2013<\/td><td>1<\/td><td>1<\/td><td>533<\/td><td>529<\/td><td> 4<\/td><td> 850<\/td><td> 830<\/td><td> 20<\/td><td>UA<\/td><td>1714<\/td><td>N24211<\/td><td>LGA<\/td><td>IAH<\/td><td>227<\/td><td>1416<\/td><td>5<\/td><td>29<\/td><td>2013-01-01 10:00:00<\/td><\/tr>\n",
       "\t<tr><td>2013<\/td><td>1<\/td><td>1<\/td><td>542<\/td><td>540<\/td><td> 2<\/td><td> 923<\/td><td> 850<\/td><td> 33<\/td><td>AA<\/td><td>1141<\/td><td>N619AA<\/td><td>JFK<\/td><td>MIA<\/td><td>160<\/td><td>1089<\/td><td>5<\/td><td>40<\/td><td>2013-01-01 10:00:00<\/td><\/tr>\n",
       "\t<tr><td>2013<\/td><td>1<\/td><td>1<\/td><td>544<\/td><td>545<\/td><td>-1<\/td><td>1004<\/td><td>1022<\/td><td>-18<\/td><td>B6<\/td><td> 725<\/td><td>N804JB<\/td><td>JFK<\/td><td>BQN<\/td><td>183<\/td><td>1576<\/td><td>5<\/td><td>45<\/td><td>2013-01-01 10:00:00<\/td><\/tr>\n",
       "\t<tr><td>2013<\/td><td>1<\/td><td>1<\/td><td>554<\/td><td>600<\/td><td>-6<\/td><td> 812<\/td><td> 837<\/td><td>-25<\/td><td>DL<\/td><td> 461<\/td><td>N668DN<\/td><td>LGA<\/td><td>ATL<\/td><td>116<\/td><td> 762<\/td><td>6<\/td><td> 0<\/td><td>2013-01-01 11:00:00<\/td><\/tr>\n",
       "\t<tr><td>2013<\/td><td>1<\/td><td>1<\/td><td>554<\/td><td>558<\/td><td>-4<\/td><td> 740<\/td><td> 728<\/td><td> 12<\/td><td>UA<\/td><td>1696<\/td><td>N39463<\/td><td>EWR<\/td><td>ORD<\/td><td>150<\/td><td> 719<\/td><td>5<\/td><td>58<\/td><td>2013-01-01 10:00:00<\/td><\/tr>\n",
       "<\/tbody>\n",
       "<\/table>\n"
      ]
     },
     "metadata":{
      
     },
     "output_type":"display_data"
    },
    {
     "data":{
      "text\/html":[
       "<table class=\"dataframe\">\n",
       "<caption>A tibble: 6 × 2<\/caption>\n",
       "<thead>\n",
       "\t<tr><th scope=col>carrier<\/th><th scope=col>name<\/th><\/tr>\n",
       "\t<tr><th scope=col>&lt;chr&gt;<\/th><th scope=col>&lt;chr&gt;<\/th><\/tr>\n",
       "<\/thead>\n",
       "<tbody>\n",
       "\t<tr><td>9E<\/td><td>Endeavor Air Inc.       <\/td><\/tr>\n",
       "\t<tr><td>AA<\/td><td>American Airlines Inc.  <\/td><\/tr>\n",
       "\t<tr><td>AS<\/td><td>Alaska Airlines Inc.    <\/td><\/tr>\n",
       "\t<tr><td>B6<\/td><td>JetBlue Airways         <\/td><\/tr>\n",
       "\t<tr><td>DL<\/td><td>Delta Air Lines Inc.    <\/td><\/tr>\n",
       "\t<tr><td>EV<\/td><td>ExpressJet Airlines Inc.<\/td><\/tr>\n",
       "<\/tbody>\n",
       "<\/table>\n"
      ]
     },
     "metadata":{
      
     },
     "output_type":"display_data"
    },
    {
     "data":{
      "text\/html":[
       "<table class=\"dataframe\">\n",
       "<caption>A tibble: 6 × 8<\/caption>\n",
       "<thead>\n",
       "\t<tr><th scope=col>faa<\/th><th scope=col>name<\/th><th scope=col>lat<\/th><th scope=col>lon<\/th><th scope=col>alt<\/th><th scope=col>tz<\/th><th scope=col>dst<\/th><th scope=col>tzone<\/th><\/tr>\n",
       "\t<tr><th scope=col>&lt;chr&gt;<\/th><th scope=col>&lt;chr&gt;<\/th><th scope=col>&lt;dbl&gt;<\/th><th scope=col>&lt;dbl&gt;<\/th><th scope=col>&lt;dbl&gt;<\/th><th scope=col>&lt;dbl&gt;<\/th><th scope=col>&lt;chr&gt;<\/th><th scope=col>&lt;chr&gt;<\/th><\/tr>\n",
       "<\/thead>\n",
       "<tbody>\n",
       "\t<tr><td>04G<\/td><td>Lansdowne Airport             <\/td><td>41.13047<\/td><td>-80.61958<\/td><td>1044<\/td><td>-5<\/td><td>A<\/td><td>America\/New_York<\/td><\/tr>\n",
       "\t<tr><td>06A<\/td><td>Moton Field Municipal Airport <\/td><td>32.46057<\/td><td>-85.68003<\/td><td> 264<\/td><td>-6<\/td><td>A<\/td><td>America\/Chicago <\/td><\/tr>\n",
       "\t<tr><td>06C<\/td><td>Schaumburg Regional           <\/td><td>41.98934<\/td><td>-88.10124<\/td><td> 801<\/td><td>-6<\/td><td>A<\/td><td>America\/Chicago <\/td><\/tr>\n",
       "\t<tr><td>06N<\/td><td>Randall Airport               <\/td><td>41.43191<\/td><td>-74.39156<\/td><td> 523<\/td><td>-5<\/td><td>A<\/td><td>America\/New_York<\/td><\/tr>\n",
       "\t<tr><td>09J<\/td><td>Jekyll Island Airport         <\/td><td>31.07447<\/td><td>-81.42778<\/td><td>  11<\/td><td>-5<\/td><td>A<\/td><td>America\/New_York<\/td><\/tr>\n",
       "\t<tr><td>0A9<\/td><td>Elizabethton Municipal Airport<\/td><td>36.37122<\/td><td>-82.17342<\/td><td>1593<\/td><td>-5<\/td><td>A<\/td><td>America\/New_York<\/td><\/tr>\n",
       "<\/tbody>\n",
       "<\/table>\n"
      ]
     },
     "metadata":{
      
     },
     "output_type":"display_data"
    },
    {
     "data":{
      "text\/html":[
       "<table class=\"dataframe\">\n",
       "<caption>A tibble: 6 × 9<\/caption>\n",
       "<thead>\n",
       "\t<tr><th scope=col>tailnum<\/th><th scope=col>year<\/th><th scope=col>type<\/th><th scope=col>manufacturer<\/th><th scope=col>model<\/th><th scope=col>engines<\/th><th scope=col>seats<\/th><th scope=col>speed<\/th><th scope=col>engine<\/th><\/tr>\n",
       "\t<tr><th scope=col>&lt;chr&gt;<\/th><th scope=col>&lt;int&gt;<\/th><th scope=col>&lt;chr&gt;<\/th><th scope=col>&lt;chr&gt;<\/th><th scope=col>&lt;chr&gt;<\/th><th scope=col>&lt;int&gt;<\/th><th scope=col>&lt;int&gt;<\/th><th scope=col>&lt;int&gt;<\/th><th scope=col>&lt;chr&gt;<\/th><\/tr>\n",
       "<\/thead>\n",
       "<tbody>\n",
       "\t<tr><td>N10156<\/td><td>2004<\/td><td>Fixed wing multi engine<\/td><td>EMBRAER         <\/td><td>EMB-145XR<\/td><td>2<\/td><td> 55<\/td><td>NA<\/td><td>Turbo-fan<\/td><\/tr>\n",
       "\t<tr><td>N102UW<\/td><td>1998<\/td><td>Fixed wing multi engine<\/td><td>AIRBUS INDUSTRIE<\/td><td>A320-214 <\/td><td>2<\/td><td>182<\/td><td>NA<\/td><td>Turbo-fan<\/td><\/tr>\n",
       "\t<tr><td>N103US<\/td><td>1999<\/td><td>Fixed wing multi engine<\/td><td>AIRBUS INDUSTRIE<\/td><td>A320-214 <\/td><td>2<\/td><td>182<\/td><td>NA<\/td><td>Turbo-fan<\/td><\/tr>\n",
       "\t<tr><td>N104UW<\/td><td>1999<\/td><td>Fixed wing multi engine<\/td><td>AIRBUS INDUSTRIE<\/td><td>A320-214 <\/td><td>2<\/td><td>182<\/td><td>NA<\/td><td>Turbo-fan<\/td><\/tr>\n",
       "\t<tr><td>N10575<\/td><td>2002<\/td><td>Fixed wing multi engine<\/td><td>EMBRAER         <\/td><td>EMB-145LR<\/td><td>2<\/td><td> 55<\/td><td>NA<\/td><td>Turbo-fan<\/td><\/tr>\n",
       "\t<tr><td>N105UW<\/td><td>1999<\/td><td>Fixed wing multi engine<\/td><td>AIRBUS INDUSTRIE<\/td><td>A320-214 <\/td><td>2<\/td><td>182<\/td><td>NA<\/td><td>Turbo-fan<\/td><\/tr>\n",
       "<\/tbody>\n",
       "<\/table>\n"
      ]
     },
     "metadata":{
      
     },
     "output_type":"display_data"
    },
    {
     "data":{
      "text\/html":[
       "<table class=\"dataframe\">\n",
       "<caption>A tibble: 6 × 15<\/caption>\n",
       "<thead>\n",
       "\t<tr><th scope=col>origin<\/th><th scope=col>year<\/th><th scope=col>month<\/th><th scope=col>day<\/th><th scope=col>hour<\/th><th scope=col>temp<\/th><th scope=col>dewp<\/th><th scope=col>humid<\/th><th scope=col>wind_dir<\/th><th scope=col>wind_speed<\/th><th scope=col>wind_gust<\/th><th scope=col>precip<\/th><th scope=col>pressure<\/th><th scope=col>visib<\/th><th scope=col>time_hour<\/th><\/tr>\n",
       "\t<tr><th scope=col>&lt;chr&gt;<\/th><th scope=col>&lt;int&gt;<\/th><th scope=col>&lt;int&gt;<\/th><th scope=col>&lt;int&gt;<\/th><th scope=col>&lt;int&gt;<\/th><th scope=col>&lt;dbl&gt;<\/th><th scope=col>&lt;dbl&gt;<\/th><th scope=col>&lt;dbl&gt;<\/th><th scope=col>&lt;dbl&gt;<\/th><th scope=col>&lt;dbl&gt;<\/th><th scope=col>&lt;dbl&gt;<\/th><th scope=col>&lt;dbl&gt;<\/th><th scope=col>&lt;dbl&gt;<\/th><th scope=col>&lt;dbl&gt;<\/th><th scope=col>&lt;dttm&gt;<\/th><\/tr>\n",
       "<\/thead>\n",
       "<tbody>\n",
       "\t<tr><td>EWR<\/td><td>2013<\/td><td>1<\/td><td>1<\/td><td>1<\/td><td>39.02<\/td><td>26.06<\/td><td>59.37<\/td><td>270<\/td><td>10.35702<\/td><td>NA<\/td><td>0<\/td><td>1012.0<\/td><td>10<\/td><td>2013-01-01 06:00:00<\/td><\/tr>\n",
       "\t<tr><td>EWR<\/td><td>2013<\/td><td>1<\/td><td>1<\/td><td>2<\/td><td>39.02<\/td><td>26.96<\/td><td>61.63<\/td><td>250<\/td><td> 8.05546<\/td><td>NA<\/td><td>0<\/td><td>1012.3<\/td><td>10<\/td><td>2013-01-01 07:00:00<\/td><\/tr>\n",
       "\t<tr><td>EWR<\/td><td>2013<\/td><td>1<\/td><td>1<\/td><td>3<\/td><td>39.02<\/td><td>28.04<\/td><td>64.43<\/td><td>240<\/td><td>11.50780<\/td><td>NA<\/td><td>0<\/td><td>1012.5<\/td><td>10<\/td><td>2013-01-01 08:00:00<\/td><\/tr>\n",
       "\t<tr><td>EWR<\/td><td>2013<\/td><td>1<\/td><td>1<\/td><td>4<\/td><td>39.92<\/td><td>28.04<\/td><td>62.21<\/td><td>250<\/td><td>12.65858<\/td><td>NA<\/td><td>0<\/td><td>1012.2<\/td><td>10<\/td><td>2013-01-01 09:00:00<\/td><\/tr>\n",
       "\t<tr><td>EWR<\/td><td>2013<\/td><td>1<\/td><td>1<\/td><td>5<\/td><td>39.02<\/td><td>28.04<\/td><td>64.43<\/td><td>260<\/td><td>12.65858<\/td><td>NA<\/td><td>0<\/td><td>1011.9<\/td><td>10<\/td><td>2013-01-01 10:00:00<\/td><\/tr>\n",
       "\t<tr><td>EWR<\/td><td>2013<\/td><td>1<\/td><td>1<\/td><td>6<\/td><td>37.94<\/td><td>28.04<\/td><td>67.21<\/td><td>240<\/td><td>11.50780<\/td><td>NA<\/td><td>0<\/td><td>1012.4<\/td><td>10<\/td><td>2013-01-01 11:00:00<\/td><\/tr>\n",
       "<\/tbody>\n",
       "<\/table>\n"
      ]
     },
     "metadata":{
      
     },
     "output_type":"display_data"
    }
   ],
   "metadata":{
    "datalore":{
     "node_id":"iMzVD84VYS7iit1pJIY5wg",
     "type":"CODE",
     "hide_input_from_viewers":false,
     "hide_output_from_viewers":false,
     "report_properties":{
      
     }
    }
   }
  },
  {
   "cell_type":"code",
   "source":[
    "# Q1 : which carrier had most flights in Dec 2013\n",
    "result1 <- flights %>%\n",
    "    filter(year == 2013, month == 12) %>%\n",
    "    count(carrier) %>%\n",
    "    arrange(desc(n)) %>%\n",
    "    left_join(airlines, by = \"carrier\" ) %>%\n",
    "    head(5)\n",
    "\n",
    "View(result1)"
   ],
   "execution_count":90,
   "outputs":[
    {
     "data":{
      "text\/html":[
       "<table class=\"dataframe\">\n",
       "<caption>A tibble: 5 × 3<\/caption>\n",
       "<thead>\n",
       "\t<tr><th scope=col>carrier<\/th><th scope=col>n<\/th><th scope=col>name<\/th><\/tr>\n",
       "\t<tr><th scope=col>&lt;chr&gt;<\/th><th scope=col>&lt;int&gt;<\/th><th scope=col>&lt;chr&gt;<\/th><\/tr>\n",
       "<\/thead>\n",
       "<tbody>\n",
       "\t<tr><td>UA<\/td><td>4931<\/td><td>United Air Lines Inc.   <\/td><\/tr>\n",
       "\t<tr><td>B6<\/td><td>4741<\/td><td>JetBlue Airways         <\/td><\/tr>\n",
       "\t<tr><td>EV<\/td><td>4307<\/td><td>ExpressJet Airlines Inc.<\/td><\/tr>\n",
       "\t<tr><td>DL<\/td><td>4093<\/td><td>Delta Air Lines Inc.    <\/td><\/tr>\n",
       "\t<tr><td>AA<\/td><td>2705<\/td><td>American Airlines Inc.  <\/td><\/tr>\n",
       "<\/tbody>\n",
       "<\/table>\n"
      ]
     },
     "metadata":{
      
     },
     "output_type":"display_data"
    }
   ],
   "metadata":{
    "datalore":{
     "node_id":"04x9yDjDuxg2xD4eBjv3oH",
     "type":"CODE",
     "hide_input_from_viewers":false,
     "hide_output_from_viewers":false,
     "report_properties":{
      
     }
    }
   }
  },
  {
   "cell_type":"code",
   "source":[
    "# Q2 : which airport had most arrival flights in Dec 2013\n",
    "result2 <- flights %>%\n",
    "    filter(year == 2013, month == 12) %>%\n",
    "    count(dest) %>%\n",
    "    arrange(desc(n)) %>%\n",
    "    inner_join(airports, by = c(\"dest\" = \"faa\")) %>%\n",
    "    select(dest, n, name) %>%\n",
    "    head(5)\n",
    "\n",
    "View(result2)"
   ],
   "execution_count":91,
   "outputs":[
    {
     "data":{
      "text\/html":[
       "<table class=\"dataframe\">\n",
       "<caption>A tibble: 5 × 3<\/caption>\n",
       "<thead>\n",
       "\t<tr><th scope=col>dest<\/th><th scope=col>n<\/th><th scope=col>name<\/th><\/tr>\n",
       "\t<tr><th scope=col>&lt;chr&gt;<\/th><th scope=col>&lt;int&gt;<\/th><th scope=col>&lt;chr&gt;<\/th><\/tr>\n",
       "<\/thead>\n",
       "<tbody>\n",
       "\t<tr><td>ATL<\/td><td>1463<\/td><td>Hartsfield Jackson Atlanta Intl<\/td><\/tr>\n",
       "\t<tr><td>LAX<\/td><td>1408<\/td><td>Los Angeles Intl               <\/td><\/tr>\n",
       "\t<tr><td>MCO<\/td><td>1219<\/td><td>Orlando Intl                   <\/td><\/tr>\n",
       "\t<tr><td>ORD<\/td><td>1196<\/td><td>Chicago Ohare Intl             <\/td><\/tr>\n",
       "\t<tr><td>CLT<\/td><td>1193<\/td><td>Charlotte Douglas Intl         <\/td><\/tr>\n",
       "<\/tbody>\n",
       "<\/table>\n"
      ]
     },
     "metadata":{
      
     },
     "output_type":"display_data"
    }
   ],
   "metadata":{
    "datalore":{
     "node_id":"87xTj1XMlG9snY690rQDtn",
     "type":"CODE",
     "hide_input_from_viewers":false,
     "hide_output_from_viewers":false,
     "report_properties":{
      
     }
    }
   }
  },
  {
   "cell_type":"code",
   "source":[
    "# Q3 : which carrier had most flights to LAX (Los Angeles Intl) in Dec 2013\n",
    "result3 <- flights %>%\n",
    "    filter(year == 2013, month == 12, dest == \"LAX\") %>%\n",
    "    count(carrier) %>%\n",
    "    arrange(desc(n)) %>%\n",
    "    left_join(airlines, by = \"carrier\" ) %>%\n",
    "    head(5)\n",
    "\n",
    "View(result3)"
   ],
   "execution_count":92,
   "outputs":[
    {
     "data":{
      "text\/html":[
       "<table class=\"dataframe\">\n",
       "<caption>A tibble: 5 × 3<\/caption>\n",
       "<thead>\n",
       "\t<tr><th scope=col>carrier<\/th><th scope=col>n<\/th><th scope=col>name<\/th><\/tr>\n",
       "\t<tr><th scope=col>&lt;chr&gt;<\/th><th scope=col>&lt;int&gt;<\/th><th scope=col>&lt;chr&gt;<\/th><\/tr>\n",
       "<\/thead>\n",
       "<tbody>\n",
       "\t<tr><td>UA<\/td><td>514<\/td><td>United Air Lines Inc. <\/td><\/tr>\n",
       "\t<tr><td>AA<\/td><td>290<\/td><td>American Airlines Inc.<\/td><\/tr>\n",
       "\t<tr><td>VX<\/td><td>237<\/td><td>Virgin America        <\/td><\/tr>\n",
       "\t<tr><td>DL<\/td><td>203<\/td><td>Delta Air Lines Inc.  <\/td><\/tr>\n",
       "\t<tr><td>B6<\/td><td>164<\/td><td>JetBlue Airways       <\/td><\/tr>\n",
       "<\/tbody>\n",
       "<\/table>\n"
      ]
     },
     "metadata":{
      
     },
     "output_type":"display_data"
    }
   ],
   "metadata":{
    "datalore":{
     "node_id":"VuM438zPcsi3dxSrVYS7W4",
     "type":"CODE",
     "hide_input_from_viewers":false,
     "hide_output_from_viewers":false,
     "report_properties":{
      
     }
    }
   }
  },
  {
   "cell_type":"code",
   "source":[
    "# Q4 : which plane manufacturer had most flights since 2013\n",
    "popular_tailnum <- flights %>%\n",
    "    filter(year >= 2013) %>%\n",
    "    count(tailnum) %>%\n",
    "    inner_join(planes, by = \"tailnum\") %>%\n",
    "    select(tailnum, n, manufacturer)\n",
    "\n",
    "result4 <- aggregate(popular_tailnum$n, by = list(manufacturer = popular_tailnum$manufacturer), sum) %>%\n",
    "    rename(count_flights = x) %>%\n",
    "    arrange(desc(count_flights)) %>%\n",
    "    head(5)\n",
    "\n",
    "View(result4)"
   ],
   "execution_count":93,
   "outputs":[
    {
     "data":{
      "text\/html":[
       "<table class=\"dataframe\">\n",
       "<caption>A data.frame: 5 × 2<\/caption>\n",
       "<thead>\n",
       "\t<tr><th><\/th><th scope=col>manufacturer<\/th><th scope=col>count_flights<\/th><\/tr>\n",
       "\t<tr><th><\/th><th scope=col>&lt;chr&gt;<\/th><th scope=col>&lt;int&gt;<\/th><\/tr>\n",
       "<\/thead>\n",
       "<tbody>\n",
       "\t<tr><th scope=row>1<\/th><td>BOEING          <\/td><td>82912<\/td><\/tr>\n",
       "\t<tr><th scope=row>2<\/th><td>EMBRAER         <\/td><td>66068<\/td><\/tr>\n",
       "\t<tr><th scope=row>3<\/th><td>AIRBUS          <\/td><td>47302<\/td><\/tr>\n",
       "\t<tr><th scope=row>4<\/th><td>AIRBUS INDUSTRIE<\/td><td>40891<\/td><\/tr>\n",
       "\t<tr><th scope=row>5<\/th><td>BOMBARDIER INC  <\/td><td>28272<\/td><\/tr>\n",
       "<\/tbody>\n",
       "<\/table>\n"
      ]
     },
     "metadata":{
      
     },
     "output_type":"display_data"
    }
   ],
   "metadata":{
    "datalore":{
     "node_id":"geMu9ecJTqfkrUkSwv9l0h",
     "type":"CODE",
     "hide_input_from_viewers":false,
     "hide_output_from_viewers":false,
     "report_properties":{
      
     }
    }
   }
  },
  {
   "cell_type":"code",
   "source":[
    "# Q5 : which carrier had most delayed flights from top 100 at in 2013\n",
    "result5 <- flights %>%\n",
    "    filter(year == 2013) %>%\n",
    "    arrange(desc(arr_delay)) %>%\n",
    "    head(100) %>%\n",
    "    count(carrier) %>%\n",
    "    inner_join(airlines, by = \"carrier\") %>%\n",
    "    arrange(desc(n))\n",
    "\n",
    "View(result5)"
   ],
   "execution_count":94,
   "outputs":[
    {
     "data":{
      "text\/html":[
       "<table class=\"dataframe\">\n",
       "<caption>A tibble: 13 × 3<\/caption>\n",
       "<thead>\n",
       "\t<tr><th scope=col>carrier<\/th><th scope=col>n<\/th><th scope=col>name<\/th><\/tr>\n",
       "\t<tr><th scope=col>&lt;chr&gt;<\/th><th scope=col>&lt;int&gt;<\/th><th scope=col>&lt;chr&gt;<\/th><\/tr>\n",
       "<\/thead>\n",
       "<tbody>\n",
       "\t<tr><td>DL<\/td><td>36<\/td><td>Delta Air Lines Inc.       <\/td><\/tr>\n",
       "\t<tr><td>AA<\/td><td>17<\/td><td>American Airlines Inc.     <\/td><\/tr>\n",
       "\t<tr><td>EV<\/td><td>14<\/td><td>ExpressJet Airlines Inc.   <\/td><\/tr>\n",
       "\t<tr><td>MQ<\/td><td> 9<\/td><td>Envoy Air                  <\/td><\/tr>\n",
       "\t<tr><td>FL<\/td><td> 6<\/td><td>AirTran Airways Corporation<\/td><\/tr>\n",
       "\t<tr><td>UA<\/td><td> 4<\/td><td>United Air Lines Inc.      <\/td><\/tr>\n",
       "\t<tr><td>B6<\/td><td> 3<\/td><td>JetBlue Airways            <\/td><\/tr>\n",
       "\t<tr><td>VX<\/td><td> 3<\/td><td>Virgin America             <\/td><\/tr>\n",
       "\t<tr><td>9E<\/td><td> 2<\/td><td>Endeavor Air Inc.          <\/td><\/tr>\n",
       "\t<tr><td>US<\/td><td> 2<\/td><td>US Airways Inc.            <\/td><\/tr>\n",
       "\t<tr><td>WN<\/td><td> 2<\/td><td>Southwest Airlines Co.     <\/td><\/tr>\n",
       "\t<tr><td>F9<\/td><td> 1<\/td><td>Frontier Airlines Inc.     <\/td><\/tr>\n",
       "\t<tr><td>HA<\/td><td> 1<\/td><td>Hawaiian Airlines Inc.     <\/td><\/tr>\n",
       "<\/tbody>\n",
       "<\/table>\n"
      ]
     },
     "metadata":{
      
     },
     "output_type":"display_data"
    }
   ],
   "metadata":{
    "datalore":{
     "node_id":"fA7qpKwRh7JyDd9jSb47uq",
     "type":"CODE",
     "hide_input_from_viewers":false,
     "hide_output_from_viewers":false,
     "report_properties":{
      
     }
    }
   }
  }
 ],
 "metadata":{
  "kernelspec":{
   "display_name":"R",
   "language":"r",
   "name":"ir"
  },
  "datalore":{
   "version":1,
   "computation_mode":"JUPYTER",
   "package_manager":"conda",
   "base_environment":"minimal",
   "packages":[
    
   ]
  }
 },
 "nbformat":4,
 "nbformat_minor":4
}