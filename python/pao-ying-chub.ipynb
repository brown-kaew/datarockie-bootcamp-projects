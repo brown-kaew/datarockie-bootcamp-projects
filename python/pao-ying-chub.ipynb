{
 "cells":[
  {
   "cell_type":"markdown",
   "source":[
    "## Initial Pao Ying Chub game class"
   ],
   "attachments":{
    
   },
   "metadata":{
    "datalore":{
     "node_id":"38PU2IlfJeDjdPu9kFMbZW",
     "type":"MD",
     "hide_input_from_viewers":false,
     "hide_output_from_viewers":false
    }
   }
  },
  {
   "cell_type":"code",
   "source":[
    "import random\n",
    "\n",
    "class Game:\n",
    "    def __init__(self, player_name):\n",
    "        self.player_name = player_name\n",
    "        self.turn_no = 0\n",
    "        self.player_score = 0\n",
    "        self.ai_score = 0\n",
    "        self.draw = 0\n",
    "        self.actions = [\"rock\", \"paper\", \"scissors\"]\n",
    "\n",
    "    def greting(self):\n",
    "        print(f\"Hi {self.player_name}, Welcome to the Game\")\n",
    "\n",
    "    def bye(self):\n",
    "        print(f\"See you again {self.player_name}, bye...\")\n",
    "\n",
    "    def show_score(self):\n",
    "        print(f\"Score you : {self.player_score}, ai : {self.ai_score}, draw : {self.draw}\")\n",
    "\n",
    "    def get_player_input(self):\n",
    "        # get input from a user\n",
    "        return input('Enter a choice [1] rock [2] paper [3] scissors: ')\n",
    "    \n",
    "    def get_ai_input(self):\n",
    "        return random.randint(0,2)\n",
    "\n",
    "    def add_player_score(self):\n",
    "        self.player_score = self.player_score + 1\n",
    "    \n",
    "    def add_ai_score(self):\n",
    "        self.ai_score = self.ai_score + 1\n",
    "    \n",
    "    def add_draw_score(self):\n",
    "        self.draw = self.draw + 1\n",
    "\n",
    "    def start(self):\n",
    "        print(f\"Press Q to exit\")\n",
    "        while True:\n",
    "            player_input = self.get_player_input()\n",
    "            if player_input == 'q' or player_input == 'Q':\n",
    "                break;\n",
    "            self.next_turn(int(player_input) - 1)\n",
    "        self.bye()\n",
    "\n",
    "    def next_turn(self, player_input):\n",
    "        self.turn_no = self.turn_no + 1\n",
    "        print(f\"### turn no {self.turn_no}\")\n",
    "\n",
    "        winner = self.check_winner(player_input)\n",
    "        if winner == \"player\":\n",
    "            self.add_player_score()\n",
    "        elif winner == \"ai\":\n",
    "            self.add_ai_score()\n",
    "        else:\n",
    "            self.add_draw_score()\n",
    "\n",
    "        self.show_score()\n",
    "\n",
    "\n",
    "    def check_winner(self, player_input):\n",
    "        player = self.actions[player_input]\n",
    "        ai = self.actions[self.get_ai_input()]\n",
    "        print(f\"Your choice {player}\")\n",
    "        print(f\"Ai choice {ai}\")\n",
    "\n",
    "        if player == ai:\n",
    "            print(f\"Both selected {player}, It's a tie\")\n",
    "            return \"tie\"\n",
    "        \n",
    "        if player == \"rock\":\n",
    "            if ai == \"scissors\":\n",
    "                print(f\"Rock smashes scissors! You win!\")\n",
    "                return \"player\"\n",
    "            print(f\"Paper covers rock! You lose.\")\n",
    "            return \"ai\"\n",
    "        \n",
    "        if player == \"scissors\":\n",
    "            if ai == \"paper\":\n",
    "                print(f\"Scissors cuts paper! You win!\")\n",
    "                return \"player\"\n",
    "            print(f\"Rock smashes scissors! You lose.\")\n",
    "            return \"ai\"\n",
    "        \n",
    "        if player == \"paper\":\n",
    "            if ai == \"rock\":\n",
    "                print(f\"Paper covers rock! You win!\")\n",
    "                return \"player\"\n",
    "            print(f\"Scissors cuts paper! You lose.\")\n",
    "            return \"ai\""
   ],
   "execution_count":2,
   "outputs":[
    
   ],
   "metadata":{
    "datalore":{
     "node_id":"BatcYirjq49dwwNDWVvagX",
     "type":"CODE",
     "hide_input_from_viewers":false,
     "hide_output_from_viewers":false
    }
   }
  },
  {
   "cell_type":"markdown",
   "source":[
    "## start game"
   ],
   "attachments":{
    
   },
   "metadata":{
    "datalore":{
     "node_id":"mIgZW5OTSl29XheKkP2c8W",
     "type":"MD",
     "hide_input_from_viewers":false,
     "hide_output_from_viewers":false
    }
   }
  },
  {
   "cell_type":"code",
   "source":[
    "game = Game(\"Kaew\")\n",
    "game.greting()\n",
    "game.start()"
   ],
   "execution_count":9,
   "outputs":[
    {
     "name":"stdout",
     "text":[
      "Hi Kaew, Welcome to the Game\n",
      "Press Q to exit\n",
      "Enter a choice [1] rock [2] paper [3] scissors:  1\n",
      "### turn no 1\n",
      "Your choice rock\n",
      "Ai choice paper\n",
      "Paper covers rock! You lose.\n",
      "Score you : 0, ai : 1, draw : 0\n",
      "Enter a choice [1] rock [2] paper [3] scissors:  2\n",
      "### turn no 2\n",
      "Your choice paper\n",
      "Ai choice rock\n",
      "Paper covers rock! You win!\n",
      "Score you : 1, ai : 1, draw : 0\n",
      "Enter a choice [1] rock [2] paper [3] scissors:  3\n",
      "### turn no 3\n",
      "Your choice scissors\n",
      "Ai choice paper\n",
      "Scissors cuts paper! You win!\n",
      "Score you : 2, ai : 1, draw : 0\n"
     ],
     "output_type":"stream"
    }
   ],
   "metadata":{
    "datalore":{
     "node_id":"jX8p5Ln3ulWvR1A4OSsYh4",
     "type":"CODE",
     "hide_input_from_viewers":false,
     "hide_output_from_viewers":false
    }
   }
  }
 ],
 "metadata":{
  "kernelspec":{
   "display_name":"Python",
   "language":"python",
   "name":"python"
  },
  "datalore":{
   "version":1,
   "computation_mode":"JUPYTER",
   "package_manager":"pip",
   "base_environment":"default",
   "packages":[
    
   ]
  }
 },
 "nbformat":4,
 "nbformat_minor":4
}