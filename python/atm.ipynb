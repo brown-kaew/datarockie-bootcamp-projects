{
 "cells":[
  {
   "cell_type":"markdown",
   "source":[
    "## ATM"
   ],
   "attachments":{
    
   },
   "metadata":{
    "datalore":{
     "node_id":"f1flsxjzBdzqSz3kGSH4zv",
     "type":"MD",
     "hide_input_from_viewers":false,
     "hide_output_from_viewers":false,
     "report_properties":{
      "y":0
     }
    }
   }
  },
  {
   "cell_type":"code",
   "source":[
    "class ATM:\n",
    "    def __init__(self, name, pin):\n",
    "        self.name = name\n",
    "        self.pin = pin\n",
    "        self.balance = 0.00\n",
    "        self.history = []\n",
    "\n",
    "    def menus(self):\n",
    "        pin = int(input(f\"Enter pin : \"))\n",
    "        print(f\"What do you need?\")\n",
    "        print(f\"1.Deposit\")\n",
    "        print(f\"2.Withdraw\")\n",
    "        print(f\"3.Show balance\")\n",
    "        print(f\"4.Show history\")\n",
    "        print(f\"5.Change pin\")\n",
    "        print(f\"9.Exit\")\n",
    "\n",
    "        choice = 1\n",
    "        while 0 < choice <= 5:\n",
    "            choice = int(input(f\"Select [1-5]\"))\n",
    "            if choice == 1:\n",
    "                amount = self.__amount_input()\n",
    "                self.deposit(pin, amount)\n",
    "            elif choice == 2:\n",
    "                amount = self.__amount_input()\n",
    "                self.withdraw(pin, amount)\n",
    "            elif choice == 3:\n",
    "                if self.__validate_pin(pin):\n",
    "                    self.show_balance()\n",
    "            elif choice == 4:\n",
    "                if self.__validate_pin(pin):\n",
    "                    self.show_history()\n",
    "            elif choice == 5:\n",
    "                new_pin = int(input(f\"Enter new pin\"))\n",
    "                new_pin2 = int(input(f\"Enter new pin agian\"))\n",
    "                if new_pin == new_pin2:\n",
    "                    self.change_pin(pin, new_pin)\n",
    "                else:\n",
    "                    print(f\"Invalid new pin\")\n",
    "\n",
    "    def deposit(self, pin, amount):\n",
    "        self.show_balance()\n",
    "        msg = f\"Deposit : {amount}\"\n",
    "        print(msg)\n",
    "\n",
    "        if self.__validate_pin(pin):\n",
    "            self.balance += amount\n",
    "            print(f\"New balance is {self.balance}\")\n",
    "            self.__add_history(msg)\n",
    "    \n",
    "    def withdraw(self, pin, amount):\n",
    "        self.show_balance()\n",
    "        msg = f\"Withdraw : {amount}\"\n",
    "        print(msg)\n",
    "\n",
    "        if amount > self.balance:\n",
    "            print(f\"Insufficient balance\")\n",
    "            return\n",
    "        \n",
    "        if self.__validate_pin(pin):\n",
    "            self.balance -= amount\n",
    "            print(f\"New balance is {self.balance}\")\n",
    "            self.__add_history(msg)\n",
    "    \n",
    "    def show_balance(self):\n",
    "        print(f\"Current balance is {self.balance}\")\n",
    "    \n",
    "    def __add_history(self, history):\n",
    "        self.history.append(history)\n",
    "    \n",
    "    def show_history(self):\n",
    "        print(f\"===History===\")\n",
    "        for h in self.history:\n",
    "            print(f\"{h}\")\n",
    "        print(f\"=============\")\n",
    "    \n",
    "    def __validate_pin(self, pin):\n",
    "        if pin != self.pin:\n",
    "            print(f\"Invalid pin\")\n",
    "        return pin == self.pin\n",
    "\n",
    "    def change_pin(self, current_pin, new_pin):\n",
    "        if self.__validate_pin(current_pin):\n",
    "            self.pin = new_pin\n",
    "            print(f\"Update pin success\")\n",
    "\n",
    "    def __amount_input(self):\n",
    "        return int(input(\"Enter amount: \"))"
   ],
   "execution_count":5,
   "outputs":[
    
   ],
   "metadata":{
    "datalore":{
     "node_id":"vUAoH8F019hVgqjS4RFFv7",
     "type":"CODE",
     "hide_input_from_viewers":false,
     "hide_output_from_viewers":false,
     "report_properties":{
      "y":3
     }
    }
   }
  },
  {
   "cell_type":"markdown",
   "source":[
    "## ATM showcase"
   ],
   "attachments":{
    
   },
   "metadata":{
    "datalore":{
     "node_id":"yihGW3L5WZAwGfl6jJuazE",
     "type":"MD",
     "hide_input_from_viewers":false,
     "hide_output_from_viewers":false,
     "report_properties":{
      "y":45
     }
    }
   }
  },
  {
   "cell_type":"code",
   "source":[
    "# New ATM\n",
    "atm = ATM(\"kaew\", 1234)\n",
    "\n",
    "# Show balance\n",
    "atm.show_balance()\n",
    "\n",
    "# Deposit\n",
    "atm.deposit(1234, 5500)\n",
    "\n",
    "# Withdraw invalid pin\n",
    "atm.withdraw(1111, 5000)\n",
    "\n",
    "# Withdraw invalid amount\n",
    "atm.withdraw(1111, 10000)\n",
    "\n",
    "# Withdraw\n",
    "atm.withdraw(1234, 5000)\n",
    "\n",
    "# Show history\n",
    "atm.show_history()\n",
    "\n",
    "# Change pin\n",
    "atm.change_pin(1234, 4321)\n",
    "\n",
    "# Deposit with old pin\n",
    "atm.deposit(1234, 300)\n",
    "\n",
    "# Deposit\n",
    "atm.deposit(4321, 300)\n",
    "\n",
    "# Show history\n",
    "atm.show_history()\n",
    "\n",
    "# Show balance\n",
    "atm.show_balance()"
   ],
   "execution_count":6,
   "outputs":[
    {
     "name":"stdout",
     "text":[
      "Current balance is 0.0\n",
      "Current balance is 0.0\n",
      "Deposit : 5500\n",
      "New balance is 5500.0\n",
      "Current balance is 5500.0\n",
      "Withdraw : 5000\n",
      "Invalid pin\n",
      "Current balance is 5500.0\n",
      "Withdraw : 10000\n",
      "Insufficient balance\n",
      "Current balance is 5500.0\n",
      "Withdraw : 5000\n",
      "New balance is 500.0\n",
      "===History===\n",
      "Deposit : 5500\n",
      "Withdraw : 5000\n",
      "=============\n",
      "Update pin success\n",
      "Current balance is 500.0\n",
      "Deposit : 300\n",
      "Invalid pin\n",
      "Current balance is 500.0\n",
      "Deposit : 300\n",
      "New balance is 800.0\n",
      "===History===\n",
      "Deposit : 5500\n",
      "Withdraw : 5000\n",
      "Deposit : 300\n",
      "=============\n",
      "Current balance is 800.0\n"
     ],
     "output_type":"stream"
    }
   ],
   "metadata":{
    "datalore":{
     "node_id":"UULRvE1I9y3pQysGEBnGWY",
     "type":"CODE",
     "hide_input_from_viewers":false,
     "hide_output_from_viewers":false,
     "report_properties":{
      "y":48
     }
    }
   }
  },
  {
   "cell_type":"markdown",
   "source":[
    "## Interactive"
   ],
   "attachments":{
    
   },
   "metadata":{
    "datalore":{
     "node_id":"IVpFozJaPh6xbFHUulSxbl",
     "type":"MD",
     "hide_input_from_viewers":false,
     "hide_output_from_viewers":false,
     "report_properties":{
      "y":76
     }
    }
   }
  },
  {
   "cell_type":"code",
   "source":[
    "atm.menus()"
   ],
   "execution_count":7,
   "outputs":[
    {
     "name":"stdout",
     "text":[
      "Enter pin :  4321\n",
      "What do you need?\n",
      "1.Deposit\n",
      "2.Withdraw\n",
      "3.Show balance\n",
      "4.Show history\n",
      "5.Change pin\n",
      "9.Exit\n",
      "Select [1-5] 1\n",
      "Enter amount:  100\n",
      "Current balance is 800.0\n",
      "Deposit : 100\n",
      "New balance is 900.0\n",
      "Select [1-5] 2\n",
      "Enter amount:  200\n",
      "Current balance is 900.0\n",
      "Withdraw : 200\n",
      "New balance is 700.0\n",
      "Select [1-5] 3\n",
      "Current balance is 700.0\n",
      "Select [1-5] 4\n",
      "===History===\n",
      "Deposit : 5500\n",
      "Withdraw : 5000\n",
      "Deposit : 300\n",
      "Deposit : 100\n",
      "Withdraw : 200\n",
      "=============\n",
      "Select [1-5] 9\n"
     ],
     "output_type":"stream"
    }
   ],
   "metadata":{
    "datalore":{
     "node_id":"orG624ZGJF1fFkYKEMzm4i",
     "type":"CODE",
     "hide_input_from_viewers":false,
     "hide_output_from_viewers":false,
     "report_properties":{
      "y":79
     }
    }
   }
  }
 ],
 "metadata":{
  "kernelspec":{
   "display_name":"Python",
   "language":"python",
   "name":"python"
  },
  "datalore":{
   "version":1,
   "computation_mode":"JUPYTER",
   "package_manager":"pip",
   "base_environment":"default",
   "packages":[
    
   ]
  }
 },
 "nbformat":4,
 "nbformat_minor":4
}